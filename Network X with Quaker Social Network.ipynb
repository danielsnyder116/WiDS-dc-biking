{
 "cells": [
  {
   "cell_type": "code",
   "execution_count": 2,
   "metadata": {},
   "outputs": [],
   "source": [
    "import networkx as nx\n",
    "import numpy as np\n",
    "import matplotlib.pyplot as plt\n",
    "import pandas as pd"
   ]
  },
  {
   "cell_type": "markdown",
   "metadata": {},
   "source": [
    "# Practice with Quaker Social Network"
   ]
  },
  {
   "cell_type": "code",
   "execution_count": 3,
   "metadata": {},
   "outputs": [
    {
     "name": "stdout",
     "output_type": "stream",
     "text": [
      "/c/Users/602770/downloads/wids\n"
     ]
    }
   ],
   "source": [
    "!pwd"
   ]
  },
  {
   "cell_type": "code",
   "execution_count": 4,
   "metadata": {},
   "outputs": [],
   "source": [
    "edges = pd.read_csv('../quakers_edgelist.csv')"
   ]
  },
  {
   "cell_type": "code",
   "execution_count": 5,
   "metadata": {},
   "outputs": [
    {
     "data": {
      "text/html": [
       "<div>\n",
       "<style scoped>\n",
       "    .dataframe tbody tr th:only-of-type {\n",
       "        vertical-align: middle;\n",
       "    }\n",
       "\n",
       "    .dataframe tbody tr th {\n",
       "        vertical-align: top;\n",
       "    }\n",
       "\n",
       "    .dataframe thead th {\n",
       "        text-align: right;\n",
       "    }\n",
       "</style>\n",
       "<table border=\"1\" class=\"dataframe\">\n",
       "  <thead>\n",
       "    <tr style=\"text-align: right;\">\n",
       "      <th></th>\n",
       "      <th>Source</th>\n",
       "      <th>Target</th>\n",
       "    </tr>\n",
       "  </thead>\n",
       "  <tbody>\n",
       "    <tr>\n",
       "      <th>0</th>\n",
       "      <td>George Keith</td>\n",
       "      <td>Robert Barclay</td>\n",
       "    </tr>\n",
       "    <tr>\n",
       "      <th>1</th>\n",
       "      <td>George Keith</td>\n",
       "      <td>Benjamin Furly</td>\n",
       "    </tr>\n",
       "    <tr>\n",
       "      <th>2</th>\n",
       "      <td>George Keith</td>\n",
       "      <td>Anne Conway Viscountess Conway and Killultagh</td>\n",
       "    </tr>\n",
       "    <tr>\n",
       "      <th>3</th>\n",
       "      <td>George Keith</td>\n",
       "      <td>Franciscus Mercurius van Helmont</td>\n",
       "    </tr>\n",
       "    <tr>\n",
       "      <th>4</th>\n",
       "      <td>George Keith</td>\n",
       "      <td>William Penn</td>\n",
       "    </tr>\n",
       "  </tbody>\n",
       "</table>\n",
       "</div>"
      ],
      "text/plain": [
       "         Source                                         Target\n",
       "0  George Keith                                 Robert Barclay\n",
       "1  George Keith                                 Benjamin Furly\n",
       "2  George Keith  Anne Conway Viscountess Conway and Killultagh\n",
       "3  George Keith               Franciscus Mercurius van Helmont\n",
       "4  George Keith                                   William Penn"
      ]
     },
     "execution_count": 5,
     "metadata": {},
     "output_type": "execute_result"
    }
   ],
   "source": [
    "edges.head()"
   ]
  },
  {
   "cell_type": "code",
   "execution_count": 6,
   "metadata": {},
   "outputs": [
    {
     "data": {
      "text/plain": [
       "pandas.core.frame.DataFrame"
      ]
     },
     "execution_count": 6,
     "metadata": {},
     "output_type": "execute_result"
    }
   ],
   "source": [
    "type(edges)"
   ]
  },
  {
   "cell_type": "code",
   "execution_count": 7,
   "metadata": {},
   "outputs": [],
   "source": [
    "nodes = pd.read_csv('../quakers_nodelist.csv')"
   ]
  },
  {
   "cell_type": "code",
   "execution_count": 8,
   "metadata": {},
   "outputs": [
    {
     "data": {
      "text/html": [
       "<div>\n",
       "<style scoped>\n",
       "    .dataframe tbody tr th:only-of-type {\n",
       "        vertical-align: middle;\n",
       "    }\n",
       "\n",
       "    .dataframe tbody tr th {\n",
       "        vertical-align: top;\n",
       "    }\n",
       "\n",
       "    .dataframe thead th {\n",
       "        text-align: right;\n",
       "    }\n",
       "</style>\n",
       "<table border=\"1\" class=\"dataframe\">\n",
       "  <thead>\n",
       "    <tr style=\"text-align: right;\">\n",
       "      <th></th>\n",
       "      <th>Name</th>\n",
       "      <th>Historical Significance</th>\n",
       "      <th>Gender</th>\n",
       "      <th>Birthdate</th>\n",
       "      <th>Deathdate</th>\n",
       "      <th>ID</th>\n",
       "    </tr>\n",
       "  </thead>\n",
       "  <tbody>\n",
       "    <tr>\n",
       "      <th>0</th>\n",
       "      <td>Joseph Wyeth</td>\n",
       "      <td>religious writer</td>\n",
       "      <td>male</td>\n",
       "      <td>1663</td>\n",
       "      <td>1731</td>\n",
       "      <td>10013191</td>\n",
       "    </tr>\n",
       "    <tr>\n",
       "      <th>1</th>\n",
       "      <td>Alexander Skene of Newtyle</td>\n",
       "      <td>local politician and author</td>\n",
       "      <td>male</td>\n",
       "      <td>1621</td>\n",
       "      <td>1694</td>\n",
       "      <td>10011149</td>\n",
       "    </tr>\n",
       "    <tr>\n",
       "      <th>2</th>\n",
       "      <td>James Logan</td>\n",
       "      <td>colonial official and scholar</td>\n",
       "      <td>male</td>\n",
       "      <td>1674</td>\n",
       "      <td>1751</td>\n",
       "      <td>10007567</td>\n",
       "    </tr>\n",
       "    <tr>\n",
       "      <th>3</th>\n",
       "      <td>Dorcas Erbery</td>\n",
       "      <td>Quaker preacher</td>\n",
       "      <td>female</td>\n",
       "      <td>1656</td>\n",
       "      <td>1659</td>\n",
       "      <td>10003983</td>\n",
       "    </tr>\n",
       "    <tr>\n",
       "      <th>4</th>\n",
       "      <td>Lilias Skene</td>\n",
       "      <td>Quaker preacher and poet</td>\n",
       "      <td>male</td>\n",
       "      <td>1626</td>\n",
       "      <td>1697</td>\n",
       "      <td>10011152</td>\n",
       "    </tr>\n",
       "  </tbody>\n",
       "</table>\n",
       "</div>"
      ],
      "text/plain": [
       "                         Name        Historical Significance  Gender  \\\n",
       "0                Joseph Wyeth               religious writer    male   \n",
       "1  Alexander Skene of Newtyle    local politician and author    male   \n",
       "2                 James Logan  colonial official and scholar    male   \n",
       "3               Dorcas Erbery                Quaker preacher  female   \n",
       "4                Lilias Skene       Quaker preacher and poet    male   \n",
       "\n",
       "   Birthdate  Deathdate        ID  \n",
       "0       1663       1731  10013191  \n",
       "1       1621       1694  10011149  \n",
       "2       1674       1751  10007567  \n",
       "3       1656       1659  10003983  \n",
       "4       1626       1697  10011152  "
      ]
     },
     "execution_count": 8,
     "metadata": {},
     "output_type": "execute_result"
    }
   ],
   "source": [
    "nodes.head()"
   ]
  },
  {
   "cell_type": "code",
   "execution_count": null,
   "metadata": {},
   "outputs": [],
   "source": []
  },
  {
   "cell_type": "code",
   "execution_count": 10,
   "metadata": {},
   "outputs": [],
   "source": [
    "J = nx.from_pandas_edgelist(edges, source='Source', target='Target')"
   ]
  },
  {
   "cell_type": "code",
   "execution_count": 42,
   "metadata": {},
   "outputs": [],
   "source": [
    "new_data = nodes.set_index('Name').to_dict('index').items()"
   ]
  },
  {
   "cell_type": "code",
   "execution_count": 78,
   "metadata": {},
   "outputs": [],
   "source": [
    "test = nodes.set_index('Name').to_dict(orient='index').items()"
   ]
  },
  {
   "cell_type": "code",
   "execution_count": 79,
   "metadata": {},
   "outputs": [],
   "source": [
    "a,b = list(test)[0]"
   ]
  },
  {
   "cell_type": "code",
   "execution_count": 80,
   "metadata": {},
   "outputs": [
    {
     "data": {
      "text/plain": [
       "'Joseph Wyeth'"
      ]
     },
     "execution_count": 80,
     "metadata": {},
     "output_type": "execute_result"
    }
   ],
   "source": [
    "a"
   ]
  },
  {
   "cell_type": "code",
   "execution_count": 75,
   "metadata": {},
   "outputs": [
    {
     "data": {
      "text/plain": [
       "dict_keys(['Historical Significance', 'Gender', 'Birthdate', 'Deathdate', 'ID'])"
      ]
     },
     "execution_count": 75,
     "metadata": {},
     "output_type": "execute_result"
    }
   ],
   "source": [
    "b.keys()"
   ]
  },
  {
   "cell_type": "code",
   "execution_count": 12,
   "metadata": {},
   "outputs": [],
   "source": [
    "# nodes.set_index('Name').to_dict('index').keys()\n",
    "#In a dictionary, ever \"item\" has a key:value, \n",
    "#so you can call .items() to get everything or just get keys or just values "
   ]
  },
  {
   "cell_type": "code",
   "execution_count": 15,
   "metadata": {},
   "outputs": [
    {
     "data": {
      "text/plain": [
       "NodeDataView({'George Keith': {}, 'Robert Barclay': {}, 'Benjamin Furly': {}, 'Anne Conway Viscountess Conway and Killultagh': {}, 'Franciscus Mercurius van Helmont': {}, 'William Penn': {}, 'George Fox': {}, 'George Whitehead': {}, 'William Bradford': {}, 'James Parnel': {}, 'Stephen Crisp': {}, 'Peter Collinson': {}, 'John Bartram': {}, 'James Logan': {}, 'Joseph Wyeth': {}, 'Thomas Ellwood': {}, 'Alexander Skene of Newtyle': {}, 'Lilias Skene': {}, 'Dorcas Erbery': {}, 'James Nayler': {}, 'William Mucklow': {}, 'William Dewsbury': {}, 'Edward Burrough': {}, 'John Crook': {}, 'John Audland': {}, 'John Camm': {}, 'Francis Howgill': {}, 'Edward Pyott': {}, 'Charles Marshall': {}, 'Anne Camm': {}, 'Martha Simmonds': {}, 'Richard Farnworth': {}, 'William Crouch': {}, 'Tace Sowle': {}, 'John Bellers': {}, 'Fettiplace Bellers': {}, 'William Rogers': {}, 'Hannah Stranger': {}, 'Isabel Yeamans': {}, 'George Fox the younger': {}, 'Margaret Fell': {}, 'Ellis Hookes': {}, 'William Mead': {}, 'Elizabeth Hooten': {}, 'Thomas Salthouse': {}, 'John Wilkinson': {}, 'William Coddington': {}, 'John Stubbs': {}, 'John Perrot': {}, 'Leonard Fell': {}, 'William Caton': {}, 'Samuel Fisher': {}, 'John Burnyeat': {}, 'Thomas Camm': {}, 'John Story': {}, 'Solomon Eccles': {}, 'Alexander Parker': {}, 'Isaac Norris': {}, 'John Swinton': {}, 'David Barclay of Ury': {}, 'Gervase Benson': {}, 'Robert Rich': {}, 'Anthony Pearson': {}, 'Rebecca Travers': {}, 'William Tomlinson': {}, 'Anthony Sharp': {}, 'Samuel Clarridge': {}, 'Thomas Curtis': {}, 'William Edmundson': {}, 'William Ames': {}, 'Mary Fisher': {}, 'Mary Prince': {}, 'Lydia Lancaster': {}, 'Grace Chamber': {}, 'Henry Pickworth': {}, 'Francis Bugg': {}, 'James Claypoole': {}, 'Thomas Lower': {}, 'Sarah Gibbons': {}, 'Dorothy Waugh': {}, 'John Freame': {}, 'David Barclay': {}, 'Humphrey Norton': {}, 'John Rous': {}, 'William Gibson': {}, 'Thomas Holme': {}, 'Gideon Wanton': {}, 'John Wanton': {}, 'David Lloyd': {}, 'Edward Haistwell': {}, 'John ap John': {}, 'Gilbert Latey': {}, 'Richard Hubberthorne': {}, 'Joseph Besse': {}, 'Richard Claridge': {}, 'Samuel Bownas': {}, 'John Whitehead': {}, 'Daniel Quare': {}, 'Silvanus Bevan': {}, 'Katharine Evans': {}, 'Sarah Cheevers': {}, 'John Whiting': {}, 'Christopher Taylor': {}, 'Alice Curwen': {}, 'Thomas Lawson': {}, 'Thomas Taylor': {}, 'John Penington': {}, 'Mary Penington': {}, 'Humphrey Woolrich': {}, 'Mary Pennyman': {}, 'Thomas Story': {}, 'Richard Vickris': {}, 'George Bishop': {}, 'Jane Sowle': {}, 'Elizabeth Leavens': {}, 'Lewis Morris': {}, 'Sir Charles Wager': {}, 'William Simpson': {}, 'Thomas Aldam': {}})"
      ]
     },
     "execution_count": 15,
     "metadata": {},
     "output_type": "execute_result"
    }
   ],
   "source": [
    "J.nodes(data=True)"
   ]
  },
  {
   "cell_type": "code",
   "execution_count": 31,
   "metadata": {},
   "outputs": [
    {
     "data": {
      "text/plain": [
       "[('George Keith', {}),\n",
       " ('Robert Barclay', {}),\n",
       " ('Benjamin Furly', {}),\n",
       " ('Anne Conway Viscountess Conway and Killultagh', {}),\n",
       " ('Franciscus Mercurius van Helmont', {}),\n",
       " ('William Penn', {}),\n",
       " ('George Fox', {}),\n",
       " ('George Whitehead', {}),\n",
       " ('William Bradford', {}),\n",
       " ('James Parnel', {}),\n",
       " ('Stephen Crisp', {}),\n",
       " ('Peter Collinson', {}),\n",
       " ('John Bartram', {}),\n",
       " ('James Logan', {}),\n",
       " ('Joseph Wyeth', {}),\n",
       " ('Thomas Ellwood', {}),\n",
       " ('Alexander Skene of Newtyle', {}),\n",
       " ('Lilias Skene', {}),\n",
       " ('Dorcas Erbery', {}),\n",
       " ('James Nayler', {}),\n",
       " ('William Mucklow', {}),\n",
       " ('William Dewsbury', {}),\n",
       " ('Edward Burrough', {}),\n",
       " ('John Crook', {}),\n",
       " ('John Audland', {}),\n",
       " ('John Camm', {}),\n",
       " ('Francis Howgill', {}),\n",
       " ('Edward Pyott', {}),\n",
       " ('Charles Marshall', {}),\n",
       " ('Anne Camm', {}),\n",
       " ('Martha Simmonds', {}),\n",
       " ('Richard Farnworth', {}),\n",
       " ('William Crouch', {}),\n",
       " ('Tace Sowle', {}),\n",
       " ('John Bellers', {}),\n",
       " ('Fettiplace Bellers', {}),\n",
       " ('William Rogers', {}),\n",
       " ('Hannah Stranger', {}),\n",
       " ('Isabel Yeamans', {}),\n",
       " ('George Fox the younger', {}),\n",
       " ('Margaret Fell', {}),\n",
       " ('Ellis Hookes', {}),\n",
       " ('William Mead', {}),\n",
       " ('Elizabeth Hooten', {}),\n",
       " ('Thomas Salthouse', {}),\n",
       " ('John Wilkinson', {}),\n",
       " ('William Coddington', {}),\n",
       " ('John Stubbs', {}),\n",
       " ('John Perrot', {}),\n",
       " ('Leonard Fell', {}),\n",
       " ('William Caton', {}),\n",
       " ('Samuel Fisher', {}),\n",
       " ('John Burnyeat', {}),\n",
       " ('Thomas Camm', {}),\n",
       " ('John Story', {}),\n",
       " ('Solomon Eccles', {}),\n",
       " ('Alexander Parker', {}),\n",
       " ('Isaac Norris', {}),\n",
       " ('John Swinton', {}),\n",
       " ('David Barclay of Ury', {}),\n",
       " ('Gervase Benson', {}),\n",
       " ('Robert Rich', {}),\n",
       " ('Anthony Pearson', {}),\n",
       " ('Rebecca Travers', {}),\n",
       " ('William Tomlinson', {}),\n",
       " ('Anthony Sharp', {}),\n",
       " ('Samuel Clarridge', {}),\n",
       " ('Thomas Curtis', {}),\n",
       " ('William Edmundson', {}),\n",
       " ('William Ames', {}),\n",
       " ('Mary Fisher', {}),\n",
       " ('Mary Prince', {}),\n",
       " ('Lydia Lancaster', {}),\n",
       " ('Grace Chamber', {}),\n",
       " ('Henry Pickworth', {}),\n",
       " ('Francis Bugg', {}),\n",
       " ('James Claypoole', {}),\n",
       " ('Thomas Lower', {}),\n",
       " ('Sarah Gibbons', {}),\n",
       " ('Dorothy Waugh', {}),\n",
       " ('John Freame', {}),\n",
       " ('David Barclay', {}),\n",
       " ('Humphrey Norton', {}),\n",
       " ('John Rous', {}),\n",
       " ('William Gibson', {}),\n",
       " ('Thomas Holme', {}),\n",
       " ('Gideon Wanton', {}),\n",
       " ('John Wanton', {}),\n",
       " ('David Lloyd', {}),\n",
       " ('Edward Haistwell', {}),\n",
       " ('John ap John', {}),\n",
       " ('Gilbert Latey', {}),\n",
       " ('Richard Hubberthorne', {}),\n",
       " ('Joseph Besse', {}),\n",
       " ('Richard Claridge', {}),\n",
       " ('Samuel Bownas', {}),\n",
       " ('John Whitehead', {}),\n",
       " ('Daniel Quare', {}),\n",
       " ('Silvanus Bevan', {}),\n",
       " ('Katharine Evans', {}),\n",
       " ('Sarah Cheevers', {}),\n",
       " ('John Whiting', {}),\n",
       " ('Christopher Taylor', {}),\n",
       " ('Alice Curwen', {}),\n",
       " ('Thomas Lawson', {}),\n",
       " ('Thomas Taylor', {}),\n",
       " ('John Penington', {}),\n",
       " ('Mary Penington', {}),\n",
       " ('Humphrey Woolrich', {}),\n",
       " ('Mary Pennyman', {}),\n",
       " ('Thomas Story', {}),\n",
       " ('Richard Vickris', {}),\n",
       " ('George Bishop', {}),\n",
       " ('Jane Sowle', {}),\n",
       " ('Elizabeth Leavens', {}),\n",
       " ('Lewis Morris', {}),\n",
       " ('Sir Charles Wager', {}),\n",
       " ('William Simpson', {}),\n",
       " ('Thomas Aldam', {})]"
      ]
     },
     "execution_count": 31,
     "metadata": {},
     "output_type": "execute_result"
    }
   ],
   "source": [
    "# Can use this to sort nodes and edges\n",
    "\n",
    "[n for n in J.nodes(data=True)]\n",
    "#There are letters because we are unpacking tuples"
   ]
  },
  {
   "cell_type": "code",
   "execution_count": 33,
   "metadata": {},
   "outputs": [
    {
     "data": {
      "text/plain": [
       "[('George Keith', {}),\n",
       " ('Robert Barclay', {}),\n",
       " ('Benjamin Furly', {}),\n",
       " ('Anne Conway Viscountess Conway and Killultagh', {}),\n",
       " ('Franciscus Mercurius van Helmont', {}),\n",
       " ('William Penn', {}),\n",
       " ('George Fox', {}),\n",
       " ('George Whitehead', {}),\n",
       " ('William Bradford', {}),\n",
       " ('James Parnel', {}),\n",
       " ('Stephen Crisp', {}),\n",
       " ('Peter Collinson', {}),\n",
       " ('John Bartram', {}),\n",
       " ('James Logan', {}),\n",
       " ('Joseph Wyeth', {}),\n",
       " ('Thomas Ellwood', {}),\n",
       " ('Alexander Skene of Newtyle', {}),\n",
       " ('Lilias Skene', {}),\n",
       " ('Dorcas Erbery', {}),\n",
       " ('James Nayler', {}),\n",
       " ('William Mucklow', {}),\n",
       " ('William Dewsbury', {}),\n",
       " ('Edward Burrough', {}),\n",
       " ('John Crook', {}),\n",
       " ('John Audland', {}),\n",
       " ('John Camm', {}),\n",
       " ('Francis Howgill', {}),\n",
       " ('Edward Pyott', {}),\n",
       " ('Charles Marshall', {}),\n",
       " ('Anne Camm', {}),\n",
       " ('Martha Simmonds', {}),\n",
       " ('Richard Farnworth', {}),\n",
       " ('William Crouch', {}),\n",
       " ('Tace Sowle', {}),\n",
       " ('John Bellers', {}),\n",
       " ('Fettiplace Bellers', {}),\n",
       " ('William Rogers', {}),\n",
       " ('Hannah Stranger', {}),\n",
       " ('Isabel Yeamans', {}),\n",
       " ('George Fox the younger', {}),\n",
       " ('Margaret Fell', {}),\n",
       " ('Ellis Hookes', {}),\n",
       " ('William Mead', {}),\n",
       " ('Elizabeth Hooten', {}),\n",
       " ('Thomas Salthouse', {}),\n",
       " ('John Wilkinson', {}),\n",
       " ('William Coddington', {}),\n",
       " ('John Stubbs', {}),\n",
       " ('John Perrot', {}),\n",
       " ('Leonard Fell', {}),\n",
       " ('William Caton', {}),\n",
       " ('Samuel Fisher', {}),\n",
       " ('John Burnyeat', {}),\n",
       " ('Thomas Camm', {}),\n",
       " ('John Story', {}),\n",
       " ('Solomon Eccles', {}),\n",
       " ('Alexander Parker', {}),\n",
       " ('Isaac Norris', {}),\n",
       " ('John Swinton', {}),\n",
       " ('David Barclay of Ury', {}),\n",
       " ('Gervase Benson', {}),\n",
       " ('Robert Rich', {}),\n",
       " ('Anthony Pearson', {}),\n",
       " ('Rebecca Travers', {}),\n",
       " ('William Tomlinson', {}),\n",
       " ('Anthony Sharp', {}),\n",
       " ('Samuel Clarridge', {}),\n",
       " ('Thomas Curtis', {}),\n",
       " ('William Edmundson', {}),\n",
       " ('William Ames', {}),\n",
       " ('Mary Fisher', {}),\n",
       " ('Mary Prince', {}),\n",
       " ('Lydia Lancaster', {}),\n",
       " ('Grace Chamber', {}),\n",
       " ('Henry Pickworth', {}),\n",
       " ('Francis Bugg', {}),\n",
       " ('James Claypoole', {}),\n",
       " ('Thomas Lower', {}),\n",
       " ('Sarah Gibbons', {}),\n",
       " ('Dorothy Waugh', {}),\n",
       " ('John Freame', {}),\n",
       " ('David Barclay', {}),\n",
       " ('Humphrey Norton', {}),\n",
       " ('John Rous', {}),\n",
       " ('William Gibson', {}),\n",
       " ('Thomas Holme', {}),\n",
       " ('Gideon Wanton', {}),\n",
       " ('John Wanton', {}),\n",
       " ('David Lloyd', {}),\n",
       " ('Edward Haistwell', {}),\n",
       " ('John ap John', {}),\n",
       " ('Gilbert Latey', {}),\n",
       " ('Richard Hubberthorne', {}),\n",
       " ('Joseph Besse', {}),\n",
       " ('Richard Claridge', {}),\n",
       " ('Samuel Bownas', {}),\n",
       " ('John Whitehead', {}),\n",
       " ('Daniel Quare', {}),\n",
       " ('Silvanus Bevan', {}),\n",
       " ('Katharine Evans', {}),\n",
       " ('Sarah Cheevers', {}),\n",
       " ('John Whiting', {}),\n",
       " ('Christopher Taylor', {}),\n",
       " ('Alice Curwen', {}),\n",
       " ('Thomas Lawson', {}),\n",
       " ('Thomas Taylor', {}),\n",
       " ('John Penington', {}),\n",
       " ('Mary Penington', {}),\n",
       " ('Humphrey Woolrich', {}),\n",
       " ('Mary Pennyman', {}),\n",
       " ('Thomas Story', {}),\n",
       " ('Richard Vickris', {}),\n",
       " ('George Bishop', {}),\n",
       " ('Jane Sowle', {}),\n",
       " ('Elizabeth Leavens', {}),\n",
       " ('Lewis Morris', {}),\n",
       " ('Sir Charles Wager', {}),\n",
       " ('William Simpson', {}),\n",
       " ('Thomas Aldam', {})]"
      ]
     },
     "execution_count": 33,
     "metadata": {},
     "output_type": "execute_result"
    }
   ],
   "source": [
    "[(n,p) for n,p in J.nodes(data=True)]\n",
    "#There are letters because we are unpacking tuples"
   ]
  },
  {
   "cell_type": "code",
   "execution_count": null,
   "metadata": {},
   "outputs": [],
   "source": []
  },
  {
   "cell_type": "code",
   "execution_count": null,
   "metadata": {},
   "outputs": [],
   "source": []
  },
  {
   "cell_type": "code",
   "execution_count": 74,
   "metadata": {},
   "outputs": [
    {
     "data": {
      "text/plain": [
       "[('Joseph Wyeth',\n",
       "  {'Historical Significance': 'religious writer',\n",
       "   'Gender': 'male',\n",
       "   'Birthdate': 1663,\n",
       "   'Deathdate': 1731,\n",
       "   'ID': 10013191}),\n",
       " ('Alexander Skene of Newtyle',\n",
       "  {'Historical Significance': 'local politician and author',\n",
       "   'Gender': 'male',\n",
       "   'Birthdate': 1621,\n",
       "   'Deathdate': 1694,\n",
       "   'ID': 10011149}),\n",
       " ('James Logan',\n",
       "  {'Historical Significance': 'colonial official and scholar',\n",
       "   'Gender': 'male',\n",
       "   'Birthdate': 1674,\n",
       "   'Deathdate': 1751,\n",
       "   'ID': 10007567})]"
      ]
     },
     "execution_count": 74,
     "metadata": {},
     "output_type": "execute_result"
    }
   ],
   "source": [
    "list(new_data)[0:3]"
   ]
  },
  {
   "cell_type": "code",
   "execution_count": 75,
   "metadata": {},
   "outputs": [],
   "source": [
    "J.add_nodes_from(new_data)"
   ]
  },
  {
   "cell_type": "code",
   "execution_count": 87,
   "metadata": {},
   "outputs": [
    {
     "data": {
      "image/png": "[encoded data removed]",
      "text/plain": [
       "<Figure size 432x288 with 1 Axes>"
      ]
     },
     "metadata": {},
     "output_type": "display_data"
    }
   ],
   "source": [
    "pos = nx.spring_layout(J, k=1)\n",
    "nx.draw(J,pos, with_labels=False)\n",
    "plt.show()"
   ]
  },
  {
   "cell_type": "code",
   "execution_count": 38,
   "metadata": {},
   "outputs": [
    {
     "ename": "TypeError",
     "evalue": "'EdgeDataView' object is not subscriptable",
     "output_type": "error",
     "traceback": [
      "\u001b[1;31m---------------------------------------------------------------------------\u001b[0m",
      "\u001b[1;31mTypeError\u001b[0m                                 Traceback (most recent call last)",
      "\u001b[1;32m<ipython-input-38-abce4583d1ee>\u001b[0m in \u001b[0;36m<module>\u001b[1;34m\u001b[0m\n\u001b[1;32m----> 1\u001b[1;33m \u001b[0mJ\u001b[0m\u001b[1;33m.\u001b[0m\u001b[0medges\u001b[0m\u001b[1;33m(\u001b[0m\u001b[0mdata\u001b[0m\u001b[1;33m=\u001b[0m\u001b[1;32mTrue\u001b[0m\u001b[1;33m)\u001b[0m\u001b[1;33m[\u001b[0m\u001b[1;34m'Birthdate'\u001b[0m\u001b[1;33m]\u001b[0m\u001b[1;33m[\u001b[0m\u001b[1;36m1\u001b[0m\u001b[1;33m,\u001b[0m\u001b[1;36m10\u001b[0m\u001b[1;33m]\u001b[0m\u001b[1;33m\u001b[0m\u001b[1;33m\u001b[0m\u001b[0m\n\u001b[0m",
      "\u001b[1;31mTypeError\u001b[0m: 'EdgeDataView' object is not subscriptable"
     ]
    }
   ],
   "source": [
    "J.edges(data=True)['Birthdate'][1,10]"
   ]
  },
  {
   "cell_type": "code",
   "execution_count": null,
   "metadata": {},
   "outputs": [],
   "source": []
  },
  {
   "cell_type": "code",
   "execution_count": null,
   "metadata": {},
   "outputs": [],
   "source": []
  },
  {
   "cell_type": "code",
   "execution_count": null,
   "metadata": {},
   "outputs": [],
   "source": []
  },
  {
   "cell_type": "code",
   "execution_count": null,
   "metadata": {},
   "outputs": [],
   "source": []
  },
  {
   "cell_type": "code",
   "execution_count": null,
   "metadata": {},
   "outputs": [],
   "source": []
  },
  {
   "cell_type": "code",
   "execution_count": null,
   "metadata": {},
   "outputs": [],
   "source": []
  },
  {
   "cell_type": "code",
   "execution_count": null,
   "metadata": {},
   "outputs": [],
   "source": []
  },
  {
   "cell_type": "code",
   "execution_count": null,
   "metadata": {},
   "outputs": [],
   "source": []
  },
  {
   "cell_type": "code",
   "execution_count": null,
   "metadata": {},
   "outputs": [],
   "source": []
  },
  {
   "cell_type": "code",
   "execution_count": null,
   "metadata": {},
   "outputs": [],
   "source": []
  },
  {
   "cell_type": "code",
   "execution_count": null,
   "metadata": {},
   "outputs": [],
   "source": []
  },
  {
   "cell_type": "code",
   "execution_count": null,
   "metadata": {},
   "outputs": [],
   "source": []
  },
  {
   "cell_type": "code",
   "execution_count": null,
   "metadata": {},
   "outputs": [],
   "source": []
  },
  {
   "cell_type": "code",
   "execution_count": null,
   "metadata": {},
   "outputs": [],
   "source": []
  },
  {
   "cell_type": "code",
   "execution_count": null,
   "metadata": {},
   "outputs": [],
   "source": []
  },
  {
   "cell_type": "code",
   "execution_count": null,
   "metadata": {},
   "outputs": [],
   "source": []
  }
 ],
 "metadata": {
  "kernelspec": {
   "display_name": "Python 3",
   "language": "python",
   "name": "python3"
  },
  "language_info": {
   "codemirror_mode": {
    "name": "ipython",
    "version": 3
   },
   "file_extension": ".py",
   "mimetype": "text/x-python",
   "name": "python",
   "nbconvert_exporter": "python",
   "pygments_lexer": "ipython3",
   "version": "3.7.3"
  }
 },
 "nbformat": 4,
 "nbformat_minor": 2
}
