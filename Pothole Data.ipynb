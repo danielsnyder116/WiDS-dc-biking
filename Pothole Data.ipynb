{
 "cells": [
  {
   "cell_type": "markdown",
   "metadata": {},
   "source": [
    "# Exploratory Data Analysis on DC Pothole Data"
   ]
  },
  {
   "cell_type": "code",
   "execution_count": 2,
   "metadata": {},
   "outputs": [],
   "source": [
    "import os\n",
    "import pandas as pd\n",
    "import matplotlib.pyplot as plt\n",
    "\n",
    "%matplotlib inline\n",
    "plt.style.use('ggplot')"
   ]
  },
  {
   "cell_type": "code",
   "execution_count": 4,
   "metadata": {},
   "outputs": [
    {
     "name": "stdout",
     "output_type": "stream",
     "text": [
      "/c/Users/602770/downloads/wids\n"
     ]
    }
   ],
   "source": [
    "!pwd"
   ]
  },
  {
   "cell_type": "code",
   "execution_count": 19,
   "metadata": {},
   "outputs": [],
   "source": [
    "path = '../Pothole__Last_30_Days.csv'"
   ]
  },
  {
   "cell_type": "code",
   "execution_count": 51,
   "metadata": {
    "scrolled": true
   },
   "outputs": [],
   "source": [
    "df = pd.read_csv(path)"
   ]
  },
  {
   "cell_type": "code",
   "execution_count": 52,
   "metadata": {},
   "outputs": [
    {
     "data": {
      "text/plain": [
       "Index(['X', 'Y', 'OBJECTID', 'SERVICECODE', 'SERVICECODEDESCRIPTION',\n",
       "       'SERVICETYPECODEDESCRIPTION', 'ORGANIZATIONACRONYM', 'SERVICECALLCOUNT',\n",
       "       'ADDDATE', 'RESOLUTIONDATE', 'SERVICEDUEDATE', 'SERVICEORDERDATE',\n",
       "       'INSPECTIONFLAG', 'INSPECTIONDATE', 'INSPECTORNAME',\n",
       "       'SERVICEORDERSTATUS', 'STATUS_CODE', 'SERVICEREQUESTID', 'PRIORITY',\n",
       "       'STREETADDRESS', 'XCOORD', 'YCOORD', 'LATITUDE', 'LONGITUDE', 'CITY',\n",
       "       'STATE', 'ZIPCODE', 'MARADDRESSREPOSITORYID', 'WARD'],\n",
       "      dtype='object')"
      ]
     },
     "execution_count": 52,
     "metadata": {},
     "output_type": "execute_result"
    }
   ],
   "source": [
    "df.columns"
   ]
  },
  {
   "cell_type": "code",
   "execution_count": 53,
   "metadata": {},
   "outputs": [],
   "source": [
    "df.rename(columns=lambda x: x.lower(), inplace=True)"
   ]
  },
  {
   "cell_type": "code",
   "execution_count": 54,
   "metadata": {},
   "outputs": [
    {
     "data": {
      "text/plain": [
       "Index(['x', 'y', 'objectid', 'servicecode', 'servicecodedescription',\n",
       "       'servicetypecodedescription', 'organizationacronym', 'servicecallcount',\n",
       "       'adddate', 'resolutiondate', 'serviceduedate', 'serviceorderdate',\n",
       "       'inspectionflag', 'inspectiondate', 'inspectorname',\n",
       "       'serviceorderstatus', 'status_code', 'servicerequestid', 'priority',\n",
       "       'streetaddress', 'xcoord', 'ycoord', 'latitude', 'longitude', 'city',\n",
       "       'state', 'zipcode', 'maraddressrepositoryid', 'ward'],\n",
       "      dtype='object')"
      ]
     },
     "execution_count": 54,
     "metadata": {},
     "output_type": "execute_result"
    }
   ],
   "source": [
    "df.columns"
   ]
  },
  {
   "cell_type": "code",
   "execution_count": 60,
   "metadata": {},
   "outputs": [
    {
     "data": {
      "text/plain": [
       "x                             0.000000\n",
       "y                             0.000000\n",
       "objectid                      0.000000\n",
       "servicecode                   0.000000\n",
       "servicecodedescription        0.000000\n",
       "servicetypecodedescription    0.000000\n",
       "organizationacronym           0.000000\n",
       "servicecallcount              0.000000\n",
       "adddate                       0.000000\n",
       "resolutiondate                0.088161\n",
       "serviceduedate                0.000000\n",
       "serviceorderdate              0.000000\n",
       "inspectionflag                0.166247\n",
       "inspectiondate                0.166247\n",
       "inspectorname                 1.000000\n",
       "serviceorderstatus            0.000000\n",
       "status_code                   1.000000\n",
       "servicerequestid              0.000000\n",
       "priority                      0.000000\n",
       "streetaddress                 0.000000\n",
       "xcoord                        0.000000\n",
       "ycoord                        0.000000\n",
       "latitude                      0.000000\n",
       "longitude                     0.000000\n",
       "city                          0.000000\n",
       "state                         0.000000\n",
       "zipcode                       0.000000\n",
       "maraddressrepositoryid        0.000000\n",
       "ward                          0.007557\n",
       "dtype: float64"
      ]
     },
     "execution_count": 60,
     "metadata": {},
     "output_type": "execute_result"
    }
   ],
   "source": [
    "df.isnull().mean()"
   ]
  },
  {
   "cell_type": "code",
   "execution_count": 61,
   "metadata": {},
   "outputs": [
    {
     "data": {
      "text/plain": [
       "(397, 29)"
      ]
     },
     "execution_count": 61,
     "metadata": {},
     "output_type": "execute_result"
    }
   ],
   "source": [
    "df.shape"
   ]
  },
  {
   "cell_type": "code",
   "execution_count": 66,
   "metadata": {},
   "outputs": [
    {
     "data": {
      "text/plain": [
       "Index(['x', 'y', 'objectid', 'servicecode', 'servicecodedescription',\n",
       "       'servicetypecodedescription', 'organizationacronym', 'servicecallcount',\n",
       "       'adddate', 'resolutiondate', 'serviceduedate', 'serviceorderdate',\n",
       "       'inspectionflag', 'inspectiondate', 'inspectorname',\n",
       "       'serviceorderstatus', 'status_code', 'servicerequestid', 'priority',\n",
       "       'streetaddress', 'xcoord', 'ycoord', 'latitude', 'longitude', 'city',\n",
       "       'state', 'zipcode', 'maraddressrepositoryid', 'ward'],\n",
       "      dtype='object')"
      ]
     },
     "execution_count": 66,
     "metadata": {},
     "output_type": "execute_result"
    }
   ],
   "source": [
    "df.columns"
   ]
  },
  {
   "cell_type": "code",
   "execution_count": 69,
   "metadata": {},
   "outputs": [
    {
     "data": {
      "text/plain": [
       "Pothole    397\n",
       "Name: servicecodedescription, dtype: int64"
      ]
     },
     "execution_count": 69,
     "metadata": {},
     "output_type": "execute_result"
    }
   ],
   "source": [
    "df['servicecodedescription'].value_counts()"
   ]
  },
  {
   "cell_type": "code",
   "execution_count": 70,
   "metadata": {},
   "outputs": [],
   "source": [
    "#dropping unnecessary columns\n",
    "df = df.loc[:, ['x', 'y',  'streetaddress', 'xcoord', 'ycoord', 'latitude', 'longitude',\n",
    "           'zipcode', 'maraddressrepositoryid', 'ward']]\n",
    "\n",
    "\n"
   ]
  },
  {
   "cell_type": "code",
   "execution_count": 78,
   "metadata": {},
   "outputs": [
    {
     "data": {
      "text/html": [
       "<div>\n",
       "<style scoped>\n",
       "    .dataframe tbody tr th:only-of-type {\n",
       "        vertical-align: middle;\n",
       "    }\n",
       "\n",
       "    .dataframe tbody tr th {\n",
       "        vertical-align: top;\n",
       "    }\n",
       "\n",
       "    .dataframe thead th {\n",
       "        text-align: right;\n",
       "    }\n",
       "</style>\n",
       "<table border=\"1\" class=\"dataframe\">\n",
       "  <thead>\n",
       "    <tr style=\"text-align: right;\">\n",
       "      <th></th>\n",
       "      <th>zipcode</th>\n",
       "    </tr>\n",
       "  </thead>\n",
       "  <tbody>\n",
       "    <tr>\n",
       "      <th>20016</th>\n",
       "      <td>42</td>\n",
       "    </tr>\n",
       "    <tr>\n",
       "      <th>20002</th>\n",
       "      <td>38</td>\n",
       "    </tr>\n",
       "    <tr>\n",
       "      <th>20001</th>\n",
       "      <td>31</td>\n",
       "    </tr>\n",
       "    <tr>\n",
       "      <th>20032</th>\n",
       "      <td>29</td>\n",
       "    </tr>\n",
       "    <tr>\n",
       "      <th>20011</th>\n",
       "      <td>29</td>\n",
       "    </tr>\n",
       "    <tr>\n",
       "      <th>20020</th>\n",
       "      <td>28</td>\n",
       "    </tr>\n",
       "    <tr>\n",
       "      <th>20003</th>\n",
       "      <td>25</td>\n",
       "    </tr>\n",
       "    <tr>\n",
       "      <th>20019</th>\n",
       "      <td>25</td>\n",
       "    </tr>\n",
       "    <tr>\n",
       "      <th>20009</th>\n",
       "      <td>21</td>\n",
       "    </tr>\n",
       "    <tr>\n",
       "      <th>20008</th>\n",
       "      <td>18</td>\n",
       "    </tr>\n",
       "    <tr>\n",
       "      <th>20375</th>\n",
       "      <td>14</td>\n",
       "    </tr>\n",
       "    <tr>\n",
       "      <th>20015</th>\n",
       "      <td>14</td>\n",
       "    </tr>\n",
       "    <tr>\n",
       "      <th>20004</th>\n",
       "      <td>10</td>\n",
       "    </tr>\n",
       "    <tr>\n",
       "      <th>20018</th>\n",
       "      <td>10</td>\n",
       "    </tr>\n",
       "    <tr>\n",
       "      <th>20012</th>\n",
       "      <td>10</td>\n",
       "    </tr>\n",
       "    <tr>\n",
       "      <th>20010</th>\n",
       "      <td>9</td>\n",
       "    </tr>\n",
       "    <tr>\n",
       "      <th>20005</th>\n",
       "      <td>8</td>\n",
       "    </tr>\n",
       "    <tr>\n",
       "      <th>20007</th>\n",
       "      <td>8</td>\n",
       "    </tr>\n",
       "    <tr>\n",
       "      <th>20024</th>\n",
       "      <td>6</td>\n",
       "    </tr>\n",
       "    <tr>\n",
       "      <th>20017</th>\n",
       "      <td>5</td>\n",
       "    </tr>\n",
       "    <tr>\n",
       "      <th>20037</th>\n",
       "      <td>4</td>\n",
       "    </tr>\n",
       "    <tr>\n",
       "      <th>20036</th>\n",
       "      <td>3</td>\n",
       "    </tr>\n",
       "    <tr>\n",
       "      <th>20390</th>\n",
       "      <td>2</td>\n",
       "    </tr>\n",
       "    <tr>\n",
       "      <th>20006</th>\n",
       "      <td>2</td>\n",
       "    </tr>\n",
       "    <tr>\n",
       "      <th>20250</th>\n",
       "      <td>2</td>\n",
       "    </tr>\n",
       "    <tr>\n",
       "      <th>20052</th>\n",
       "      <td>1</td>\n",
       "    </tr>\n",
       "    <tr>\n",
       "      <th>20059</th>\n",
       "      <td>1</td>\n",
       "    </tr>\n",
       "    <tr>\n",
       "      <th>20373</th>\n",
       "      <td>1</td>\n",
       "    </tr>\n",
       "    <tr>\n",
       "      <th>20420</th>\n",
       "      <td>1</td>\n",
       "    </tr>\n",
       "  </tbody>\n",
       "</table>\n",
       "</div>"
      ],
      "text/plain": [
       "       zipcode\n",
       "20016       42\n",
       "20002       38\n",
       "20001       31\n",
       "20032       29\n",
       "20011       29\n",
       "20020       28\n",
       "20003       25\n",
       "20019       25\n",
       "20009       21\n",
       "20008       18\n",
       "20375       14\n",
       "20015       14\n",
       "20004       10\n",
       "20018       10\n",
       "20012       10\n",
       "20010        9\n",
       "20005        8\n",
       "20007        8\n",
       "20024        6\n",
       "20017        5\n",
       "20037        4\n",
       "20036        3\n",
       "20390        2\n",
       "20006        2\n",
       "20250        2\n",
       "20052        1\n",
       "20059        1\n",
       "20373        1\n",
       "20420        1"
      ]
     },
     "execution_count": 78,
     "metadata": {},
     "output_type": "execute_result"
    }
   ],
   "source": [
    "pd.DataFrame(df['zipcode'].value_counts())"
   ]
  },
  {
   "cell_type": "code",
   "execution_count": 125,
   "metadata": {},
   "outputs": [
    {
     "data": {
      "image/png": "[encoded data removed]",
      "text/plain": [
       "<Figure size 720x432 with 1 Axes>"
      ]
     },
     "metadata": {},
     "output_type": "display_data"
    }
   ],
   "source": [
    "my_colors = [\"#1f77b4\", \"#ff7f0e\", \"#2ca02c\", \"#d62728\", \"#9467bd\", \"#8c564b\",\n",
    "             \"#e377c2\", \"#7f7f7f\", \"#bcbd22\", \"#17becf\"]\n",
    "\n",
    "df['ward'].value_counts().plot(kind='bar', color=my_colors, figsize=(10,6))\n",
    "plt.title('Pothole Complaints by Ward: August 2019')\n",
    "plt.xticks(rotation=0);\n"
   ]
  },
  {
   "cell_type": "code",
   "execution_count": 139,
   "metadata": {},
   "outputs": [
    {
     "data": {
      "image/png": "[encoded data removed]",
      "text/plain": [
       "<Figure size 720x720 with 1 Axes>"
      ]
     },
     "metadata": {},
     "output_type": "display_data"
    }
   ],
   "source": [
    "df.plot(x='x', y='y', kind='scatter', figsize=(10,10));"
   ]
  },
  {
   "cell_type": "code",
   "execution_count": 140,
   "metadata": {},
   "outputs": [
    {
     "data": {
      "text/html": [
       "<div>\n",
       "<style scoped>\n",
       "    .dataframe tbody tr th:only-of-type {\n",
       "        vertical-align: middle;\n",
       "    }\n",
       "\n",
       "    .dataframe tbody tr th {\n",
       "        vertical-align: top;\n",
       "    }\n",
       "\n",
       "    .dataframe thead th {\n",
       "        text-align: right;\n",
       "    }\n",
       "</style>\n",
       "<table border=\"1\" class=\"dataframe\">\n",
       "  <thead>\n",
       "    <tr style=\"text-align: right;\">\n",
       "      <th></th>\n",
       "      <th>x</th>\n",
       "      <th>y</th>\n",
       "      <th>streetaddress</th>\n",
       "      <th>xcoord</th>\n",
       "      <th>ycoord</th>\n",
       "      <th>latitude</th>\n",
       "      <th>longitude</th>\n",
       "      <th>zipcode</th>\n",
       "      <th>maraddressrepositoryid</th>\n",
       "      <th>ward</th>\n",
       "    </tr>\n",
       "  </thead>\n",
       "  <tbody>\n",
       "    <tr>\n",
       "      <th>0</th>\n",
       "      <td>-77.018106</td>\n",
       "      <td>38.822447</td>\n",
       "      <td>4555 OVERLOOK AVENUE SW</td>\n",
       "      <td>398427.910000</td>\n",
       "      <td>128295.650000</td>\n",
       "      <td>38.822440</td>\n",
       "      <td>-77.018104</td>\n",
       "      <td>20375</td>\n",
       "      <td>291850</td>\n",
       "      <td>8.0</td>\n",
       "    </tr>\n",
       "    <tr>\n",
       "      <th>1</th>\n",
       "      <td>-77.057234</td>\n",
       "      <td>38.935178</td>\n",
       "      <td>2738 ORDWAY STREET NW</td>\n",
       "      <td>395037.950000</td>\n",
       "      <td>140811.020000</td>\n",
       "      <td>38.935170</td>\n",
       "      <td>-77.057232</td>\n",
       "      <td>20008</td>\n",
       "      <td>223253</td>\n",
       "      <td>3.0</td>\n",
       "    </tr>\n",
       "    <tr>\n",
       "      <th>2</th>\n",
       "      <td>-76.946425</td>\n",
       "      <td>38.867561</td>\n",
       "      <td>1600 FORT DAVIS PLACE SE</td>\n",
       "      <td>404649.600000</td>\n",
       "      <td>133304.770000</td>\n",
       "      <td>38.867553</td>\n",
       "      <td>-76.946423</td>\n",
       "      <td>20020</td>\n",
       "      <td>60539</td>\n",
       "      <td>7.0</td>\n",
       "    </tr>\n",
       "    <tr>\n",
       "      <th>3</th>\n",
       "      <td>-77.045492</td>\n",
       "      <td>38.917941</td>\n",
       "      <td>20TH STREET NW AND COLUMBIA ROAD NW</td>\n",
       "      <td>396055.031258</td>\n",
       "      <td>138897.052649</td>\n",
       "      <td>38.917934</td>\n",
       "      <td>-77.045490</td>\n",
       "      <td>20009</td>\n",
       "      <td>900109</td>\n",
       "      <td>1.0</td>\n",
       "    </tr>\n",
       "    <tr>\n",
       "      <th>4</th>\n",
       "      <td>-77.075338</td>\n",
       "      <td>38.963316</td>\n",
       "      <td>3815 LIVINGSTON STREET NW</td>\n",
       "      <td>393470.880000</td>\n",
       "      <td>143935.700000</td>\n",
       "      <td>38.963308</td>\n",
       "      <td>-77.075336</td>\n",
       "      <td>20015</td>\n",
       "      <td>284799</td>\n",
       "      <td>3.0</td>\n",
       "    </tr>\n",
       "  </tbody>\n",
       "</table>\n",
       "</div>"
      ],
      "text/plain": [
       "           x          y                        streetaddress         xcoord  \\\n",
       "0 -77.018106  38.822447              4555 OVERLOOK AVENUE SW  398427.910000   \n",
       "1 -77.057234  38.935178                2738 ORDWAY STREET NW  395037.950000   \n",
       "2 -76.946425  38.867561             1600 FORT DAVIS PLACE SE  404649.600000   \n",
       "3 -77.045492  38.917941  20TH STREET NW AND COLUMBIA ROAD NW  396055.031258   \n",
       "4 -77.075338  38.963316            3815 LIVINGSTON STREET NW  393470.880000   \n",
       "\n",
       "          ycoord   latitude  longitude  zipcode  maraddressrepositoryid  ward  \n",
       "0  128295.650000  38.822440 -77.018104    20375                  291850   8.0  \n",
       "1  140811.020000  38.935170 -77.057232    20008                  223253   3.0  \n",
       "2  133304.770000  38.867553 -76.946423    20020                   60539   7.0  \n",
       "3  138897.052649  38.917934 -77.045490    20009                  900109   1.0  \n",
       "4  143935.700000  38.963308 -77.075336    20015                  284799   3.0  "
      ]
     },
     "execution_count": 140,
     "metadata": {},
     "output_type": "execute_result"
    }
   ],
   "source": [
    "df.head()"
   ]
  },
  {
   "cell_type": "code",
   "execution_count": 144,
   "metadata": {},
   "outputs": [],
   "source": [
    "# Only has literally the last 30 days - any way we could historical data information? \n",
    "# We could even use it to predict where new potholes will appear"
   ]
  },
  {
   "cell_type": "code",
   "execution_count": null,
   "metadata": {},
   "outputs": [],
   "source": []
  }
 ],
 "metadata": {
  "kernelspec": {
   "display_name": "Python 3",
   "language": "python",
   "name": "python3"
  },
  "language_info": {
   "codemirror_mode": {
    "name": "ipython",
    "version": 3
   },
   "file_extension": ".py",
   "mimetype": "text/x-python",
   "name": "python",
   "nbconvert_exporter": "python",
   "pygments_lexer": "ipython3",
   "version": "3.7.3"
  }
 },
 "nbformat": 4,
 "nbformat_minor": 2
}
