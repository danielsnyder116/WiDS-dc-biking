{
 "cells": [
  {
   "cell_type": "code",
   "execution_count": 1,
   "metadata": {},
   "outputs": [],
   "source": [
    "import numpy as np\n",
    "import matplotlib.pyplot as plt\n",
    "import pandas as pd\n",
    "\n",
    "import networkx as nx\n",
    "import nxviz as nv # for vis\n",
    "\n",
    "plt.style.use('ggplot')"
   ]
  },
  {
   "cell_type": "markdown",
   "metadata": {},
   "source": [
    "## Getting Started\n",
    "\n",
    "Fun Fact: This is taught by the Neurobiologist who invented nxviz: Eric Ma"
   ]
  },
  {
   "cell_type": "code",
   "execution_count": 2,
   "metadata": {},
   "outputs": [],
   "source": [
    "G = nx.Graph()"
   ]
  },
  {
   "cell_type": "code",
   "execution_count": 3,
   "metadata": {},
   "outputs": [],
   "source": [
    "G.add_nodes_from(np.arange(1,7,1))"
   ]
  },
  {
   "cell_type": "code",
   "execution_count": 4,
   "metadata": {},
   "outputs": [
    {
     "data": {
      "text/plain": [
       "NodeView((1, 2, 3, 4, 5, 6))"
      ]
     },
     "execution_count": 4,
     "metadata": {},
     "output_type": "execute_result"
    }
   ],
   "source": [
    "G.nodes()"
   ]
  },
  {
   "cell_type": "code",
   "execution_count": 5,
   "metadata": {},
   "outputs": [
    {
     "data": {
      "text/plain": [
       "NodeView((1, 2, 3, 4, 5, 6))"
      ]
     },
     "execution_count": 5,
     "metadata": {},
     "output_type": "execute_result"
    }
   ],
   "source": [
    "G.node"
   ]
  },
  {
   "cell_type": "code",
   "execution_count": 6,
   "metadata": {},
   "outputs": [],
   "source": [
    "#To just add one edge\n",
    "G.add_edge(1,6)\n",
    "\n",
    "#To add multiple edges at once\n",
    "G.add_edges_from([(1,2), (1,3), (1,4), (1,5)])"
   ]
  },
  {
   "cell_type": "code",
   "execution_count": 7,
   "metadata": {},
   "outputs": [],
   "source": [
    "G.add_edges_from([(2,4),(2,5),(2,6)])"
   ]
  },
  {
   "cell_type": "code",
   "execution_count": 8,
   "metadata": {},
   "outputs": [
    {
     "data": {
      "text/plain": [
       "EdgeView([(1, 6), (1, 2), (1, 3), (1, 4), (1, 5), (2, 4), (2, 5), (2, 6)])"
      ]
     },
     "execution_count": 8,
     "metadata": {},
     "output_type": "execute_result"
    }
   ],
   "source": [
    "G.edges()"
   ]
  },
  {
   "cell_type": "markdown",
   "metadata": {},
   "source": [
    "## Metadata storage"
   ]
  },
  {
   "cell_type": "code",
   "execution_count": 9,
   "metadata": {},
   "outputs": [],
   "source": [
    "G.node[1]['label'] = 'Blue'\n",
    "G.node[2]['label'] = 'Red'"
   ]
  },
  {
   "cell_type": "code",
   "execution_count": 10,
   "metadata": {},
   "outputs": [
    {
     "data": {
      "text/plain": [
       "NodeDataView({1: {'label': 'Blue'}, 2: {'label': 'Red'}, 3: {}, 4: {}, 5: {}, 6: {}})"
      ]
     },
     "execution_count": 10,
     "metadata": {},
     "output_type": "execute_result"
    }
   ],
   "source": [
    "G.nodes(data=True) "
   ]
  },
  {
   "cell_type": "code",
   "execution_count": 11,
   "metadata": {},
   "outputs": [
    {
     "data": {
      "text/plain": [
       "(3, {})"
      ]
     },
     "execution_count": 11,
     "metadata": {},
     "output_type": "execute_result"
    }
   ],
   "source": [
    "list(G.nodes(data=True))[2]"
   ]
  },
  {
   "cell_type": "code",
   "execution_count": 12,
   "metadata": {},
   "outputs": [
    {
     "name": "stderr",
     "output_type": "stream",
     "text": [
      "C:\\Users\\602770\\AppData\\Local\\Continuum\\anaconda3\\lib\\site-packages\\networkx\\drawing\\nx_pylab.py:611: MatplotlibDeprecationWarning: isinstance(..., numbers.Number)\n",
      "  if cb.is_numlike(alpha):\n"
     ]
    },
    {
     "data": {
      "image/png": "[encoded data removed]",
      "text/plain": [
       "<Figure size 432x288 with 1 Axes>"
      ]
     },
     "metadata": {},
     "output_type": "display_data"
    }
   ],
   "source": [
    "nx.draw(G, with_labels=True)\n",
    "plt.show()"
   ]
  },
  {
   "cell_type": "code",
   "execution_count": 13,
   "metadata": {},
   "outputs": [
    {
     "data": {
      "text/plain": [
       "[(1, 6, {}),\n",
       " (1, 2, {}),\n",
       " (1, 3, {}),\n",
       " (1, 4, {}),\n",
       " (1, 5, {}),\n",
       " (2, 4, {}),\n",
       " (2, 5, {}),\n",
       " (2, 6, {})]"
      ]
     },
     "execution_count": 13,
     "metadata": {},
     "output_type": "execute_result"
    }
   ],
   "source": [
    "#If you need to find a specific node or edge, just convert to list and index it\n",
    "list(G.edges(data=True))"
   ]
  },
  {
   "cell_type": "code",
   "execution_count": 14,
   "metadata": {},
   "outputs": [],
   "source": [
    "# [i for i,j in G.nodes(data=True) if G['label'] == 'Red']"
   ]
  },
  {
   "cell_type": "markdown",
   "metadata": {},
   "source": [
    "**Undirected** - no explicit direction \n",
    "   - ex: Facebook friends, line with no arrow.   \n",
    "   \n",
    "**Directed** - explicit direction \n",
    "   - ex: twitter - following one person, that person may not follow you.  \n",
    "\n",
    ">- Graph - undirected graph **nx.Graph()**\n",
    ">- MultiGraph - undirected graph with multiple edges **nx.MultiGraph()**\n",
    ">- DiGraph - directed graph **nx.DiGraph()**\n",
    ">- Multi(Di)Graph - directed graph with multiple edges between two nodes **nx.MultiDiGraph()**\n",
    "\n",
    "**Djikstra's Algorithm** (d+ EYE+ k + struhh) - will be useful \n",
    "\n",
    "_Having lots of multiple edges can be memory intensive, so you can use weights with metadeta to indicate actual \n",
    "number of nodes_\n",
    "\n",
    "**Self-Node Loops** - node is connected to itself \n",
    "  - ex. Bikeshare - route starts and ends at same point\n",
    "\n",
    "**To set weight of edge**   \n",
    "network_name.edges[node1, node2]['attribute'] = value"
   ]
  },
  {
   "cell_type": "code",
   "execution_count": 15,
   "metadata": {},
   "outputs": [
    {
     "data": {
      "text/plain": [
       "EdgeDataView([(1, 6, {}), (1, 2, {}), (1, 3, {}), (1, 4, {}), (1, 5, {}), (2, 4, {}), (2, 5, {}), (2, 6, {})])"
      ]
     },
     "execution_count": 15,
     "metadata": {},
     "output_type": "execute_result"
    }
   ],
   "source": [
    "G.edges(data=True)"
   ]
  },
  {
   "cell_type": "code",
   "execution_count": 16,
   "metadata": {},
   "outputs": [
    {
     "data": {
      "text/plain": [
       "0"
      ]
     },
     "execution_count": 16,
     "metadata": {},
     "output_type": "execute_result"
    }
   ],
   "source": [
    "#Can check to see how many selfloops exist (edges that begin and end on the same node)\n",
    "G.number_of_selfloops()"
   ]
  },
  {
   "cell_type": "markdown",
   "metadata": {},
   "source": [
    "## Different Visualization Options"
   ]
  },
  {
   "cell_type": "markdown",
   "metadata": {},
   "source": [
    "1. Arc Plot - on one axis, use circular edges\n",
    "2. Matrix Plot\n",
    "3. Circos Plot - transformation of Arc plot, such that two ends are joined into circle \n",
    "4. Barbell Plot"
   ]
  },
  {
   "cell_type": "code",
   "execution_count": 17,
   "metadata": {},
   "outputs": [
    {
     "data": {
      "image/png": "[encoded data removed]",
      "text/plain": [
       "<Figure size 432x432 with 1 Axes>"
      ]
     },
     "metadata": {
      "needs_background": "light"
     },
     "output_type": "display_data"
    }
   ],
   "source": [
    "ap = nv.ArcPlot(G)\n",
    "ap.draw()\n",
    "plt.show()"
   ]
  },
  {
   "cell_type": "code",
   "execution_count": 18,
   "metadata": {},
   "outputs": [
    {
     "data": {
      "image/png": "[encoded data removed]",
      "text/plain": [
       "<Figure size 432x432 with 1 Axes>"
      ]
     },
     "metadata": {
      "needs_background": "light"
     },
     "output_type": "display_data"
    }
   ],
   "source": [
    "#Converts graph to a numpy matrix - each node is one column and one row\n",
    "m = nv.MatrixPlot(G)\n",
    "m.draw()\n",
    "plt.show()"
   ]
  },
  {
   "cell_type": "code",
   "execution_count": 19,
   "metadata": {},
   "outputs": [
    {
     "data": {
      "text/plain": [
       "matrix([[0., 1., 1., 1., 1., 1.],\n",
       "        [1., 0., 0., 1., 1., 1.],\n",
       "        [1., 0., 0., 0., 0., 0.],\n",
       "        [1., 1., 0., 0., 0., 0.],\n",
       "        [1., 1., 0., 0., 0., 0.],\n",
       "        [1., 1., 0., 0., 0., 0.]])"
      ]
     },
     "execution_count": 19,
     "metadata": {},
     "output_type": "execute_result"
    }
   ],
   "source": [
    "#This is what goes on under the hood of nv.MatrixPlot()\n",
    "# When you do this ONLY WEIGHT METADATA PRESERVED, all other metadata is lost\n",
    "N = nx.to_numpy_matrix(G)\n",
    "N"
   ]
  },
  {
   "cell_type": "code",
   "execution_count": 20,
   "metadata": {},
   "outputs": [
    {
     "data": {
      "image/png": "[encoded data removed]",
      "text/plain": [
       "<Figure size 432x432 with 1 Axes>"
      ]
     },
     "metadata": {
      "needs_background": "light"
     },
     "output_type": "display_data"
    }
   ],
   "source": [
    "#Circos Plot -with arguments\n",
    "C = nv.CircosPlot(G, node_color=None, node_order=None)\n",
    "C.draw()\n",
    "plt.show()"
   ]
  },
  {
   "cell_type": "code",
   "execution_count": 21,
   "metadata": {},
   "outputs": [
    {
     "name": "stderr",
     "output_type": "stream",
     "text": [
      "C:\\Users\\602770\\AppData\\Local\\Continuum\\anaconda3\\lib\\site-packages\\networkx\\drawing\\nx_pylab.py:611: MatplotlibDeprecationWarning: isinstance(..., numbers.Number)\n",
      "  if cb.is_numlike(alpha):\n"
     ]
    },
    {
     "data": {
      "image/png": "[encoded data removed]",
      "text/plain": [
       "<Figure size 432x288 with 1 Axes>"
      ]
     },
     "metadata": {},
     "output_type": "display_data"
    }
   ],
   "source": [
    "G = nx.barbell_graph(m1=5, m2=1) #m1 - number of nodes in bell, m2 - number of nodes in bridge\n",
    "nx.draw(G)"
   ]
  },
  {
   "cell_type": "markdown",
   "metadata": {},
   "source": [
    "## Conversion "
   ]
  },
  {
   "cell_type": "code",
   "execution_count": 22,
   "metadata": {},
   "outputs": [
    {
     "data": {
      "text/plain": [
       "<networkx.classes.graph.Graph at 0x1aedba82a90>"
      ]
     },
     "execution_count": 22,
     "metadata": {},
     "output_type": "execute_result"
    }
   ],
   "source": [
    "#Can convert back from numpy matrix to graph\n",
    "G_conv = nx.from_numpy_matrix(N)\n",
    "G_conv"
   ]
  },
  {
   "cell_type": "code",
   "execution_count": 23,
   "metadata": {},
   "outputs": [
    {
     "data": {
      "text/plain": [
       "[0, 1, 2, 3, 4, 5]"
      ]
     },
     "execution_count": 23,
     "metadata": {},
     "output_type": "execute_result"
    }
   ],
   "source": [
    "list(G_conv)"
   ]
  },
  {
   "cell_type": "code",
   "execution_count": 24,
   "metadata": {},
   "outputs": [
    {
     "data": {
      "text/plain": [
       "NodeView((0, 1, 2, 3, 4, 5))"
      ]
     },
     "execution_count": 24,
     "metadata": {},
     "output_type": "execute_result"
    }
   ],
   "source": [
    "G_conv.nodes()"
   ]
  },
  {
   "cell_type": "code",
   "execution_count": 25,
   "metadata": {},
   "outputs": [
    {
     "data": {
      "text/plain": [
       "<networkx.classes.digraph.DiGraph at 0x1aedba94e10>"
      ]
     },
     "execution_count": 25,
     "metadata": {},
     "output_type": "execute_result"
    }
   ],
   "source": [
    "# Default form is Graph() so have to use args to modify\n",
    "G_di = nx.from_numpy_matrix(N, create_using=nx.DiGraph())\n",
    "G_di"
   ]
  },
  {
   "cell_type": "code",
   "execution_count": 26,
   "metadata": {},
   "outputs": [],
   "source": [
    "# Check that the `category` metadata field is lost from each node\n",
    "for n,d in G_conv.nodes(data=True):\n",
    "    assert 'label' not in d.keys()"
   ]
  },
  {
   "cell_type": "markdown",
   "metadata": {},
   "source": [
    "## Centrality\n",
    "#### **1. Degree** - number of neighbors a node has \n",
    "#### **2. Degree Centrality** - number of neighbors a node has / number of possible neighbors\n",
    "   - with self-loops - total number is all plus my own node\n",
    "   - whereas, with twitter - total number is every other node, excluding self\n",
    "   \n",
    "#### **3. Betweenness Centrality** - number of shortest paths through a node / all possible shortest paths \n",
    "   - captures bottleneck nodes rather than highly connected nodes\n",
    " "
   ]
  },
  {
   "cell_type": "code",
   "execution_count": 27,
   "metadata": {},
   "outputs": [
    {
     "data": {
      "text/plain": [
       "[0, 2, 3, 4]"
      ]
     },
     "execution_count": 27,
     "metadata": {},
     "output_type": "execute_result"
    }
   ],
   "source": [
    "list(G.neighbors(1))"
   ]
  },
  {
   "cell_type": "code",
   "execution_count": 28,
   "metadata": {},
   "outputs": [
    {
     "data": {
      "text/plain": [
       "[0, 2, 3, 4]"
      ]
     },
     "execution_count": 28,
     "metadata": {},
     "output_type": "execute_result"
    }
   ],
   "source": [
    "list(G.neighbors(1))"
   ]
  },
  {
   "cell_type": "code",
   "execution_count": 29,
   "metadata": {},
   "outputs": [
    {
     "data": {
      "text/plain": [
       "4"
      ]
     },
     "execution_count": 29,
     "metadata": {},
     "output_type": "execute_result"
    }
   ],
   "source": [
    "len(list(G.neighbors(2)))"
   ]
  },
  {
   "cell_type": "code",
   "execution_count": 30,
   "metadata": {},
   "outputs": [
    {
     "data": {
      "text/plain": [
       "{0: 0.4,\n",
       " 1: 0.4,\n",
       " 2: 0.4,\n",
       " 3: 0.4,\n",
       " 4: 0.5,\n",
       " 6: 0.5,\n",
       " 7: 0.4,\n",
       " 8: 0.4,\n",
       " 9: 0.4,\n",
       " 10: 0.4,\n",
       " 5: 0.2}"
      ]
     },
     "execution_count": 30,
     "metadata": {},
     "output_type": "execute_result"
    }
   ],
   "source": [
    "#dictionary, key is node, and value is degree of centrality\n",
    "nx.degree_centrality(G) "
   ]
  },
  {
   "cell_type": "code",
   "execution_count": 31,
   "metadata": {},
   "outputs": [
    {
     "data": {
      "text/plain": [
       "NodeView((0, 1, 2, 3, 4, 6, 7, 8, 9, 10, 5))"
      ]
     },
     "execution_count": 31,
     "metadata": {},
     "output_type": "execute_result"
    }
   ],
   "source": [
    "G.nodes()"
   ]
  },
  {
   "cell_type": "code",
   "execution_count": 32,
   "metadata": {},
   "outputs": [
    {
     "data": {
      "text/plain": [
       "4"
      ]
     },
     "execution_count": 32,
     "metadata": {},
     "output_type": "execute_result"
    }
   ],
   "source": [
    "len(list(G.neighbors(1)))"
   ]
  },
  {
   "cell_type": "markdown",
   "metadata": {},
   "source": [
    "### 1. Degree Function"
   ]
  },
  {
   "cell_type": "code",
   "execution_count": 33,
   "metadata": {},
   "outputs": [],
   "source": [
    "#A function to compute number of neighbors for each node in a graph\n",
    "\n",
    "def node_neighbors(g, m):\n",
    "    ''' \n",
    "    Returns all nodes in Graph that have m neighbors\n",
    "    '''\n",
    "    nodes = set()\n",
    "    \n",
    "    for n in g.nodes():\n",
    "        if len(list(g.neighbors(n))) == m:\n",
    "            nodes.add(n)\n",
    "    \n",
    "    return nodes"
   ]
  },
  {
   "cell_type": "code",
   "execution_count": 34,
   "metadata": {},
   "outputs": [
    {
     "name": "stdout",
     "output_type": "stream",
     "text": [
      "{4, 6}\n"
     ]
    }
   ],
   "source": [
    "five_neighbors = node_neighbors(G,5)\n",
    "print(five_neighbors)"
   ]
  },
  {
   "cell_type": "code",
   "execution_count": 35,
   "metadata": {},
   "outputs": [
    {
     "data": {
      "text/plain": [
       "[0, 1, 2, 3, 4, 6, 7, 8, 9, 10, 5]"
      ]
     },
     "execution_count": 35,
     "metadata": {},
     "output_type": "execute_result"
    }
   ],
   "source": [
    "#Practicing basic list comprehension\n",
    "[n for n in G.nodes()]"
   ]
  },
  {
   "cell_type": "code",
   "execution_count": 36,
   "metadata": {},
   "outputs": [],
   "source": [
    "#To get degree of every single node - yay list comprehensions!\n",
    "# Node 1 has 5 neighbors, Node 2 has 4 neighbors, etc.\n",
    "\n",
    "n_nodes = [len(list(G.neighbors(n))) for n in G.nodes()]"
   ]
  },
  {
   "cell_type": "code",
   "execution_count": 37,
   "metadata": {},
   "outputs": [
    {
     "data": {
      "image/png": "[encoded data removed]",
      "text/plain": [
       "<Figure size 432x288 with 1 Axes>"
      ]
     },
     "metadata": {
      "needs_background": "light"
     },
     "output_type": "display_data"
    }
   ],
   "source": [
    "#Practicing OOP way of building matplotlib graph\n",
    "\n",
    "fig, ax = plt.subplots(figsize=(6,4))\n",
    "\n",
    "ax.hist(x=n_nodes, color='tab:purple', alpha=.9)\n",
    "ax.set_title('Degree of Each G Node', size=14)\n",
    "ax.set_xlim(0,6)\n",
    "ax.set_xticks(np.arange(0,7,1))\n",
    "ax.set_yticks(np.arange(0,4,1))\n",
    "\n",
    "plt.show()"
   ]
  },
  {
   "cell_type": "markdown",
   "metadata": {},
   "source": [
    "### 2. Degree Centrality Function"
   ]
  },
  {
   "cell_type": "code",
   "execution_count": 38,
   "metadata": {},
   "outputs": [
    {
     "data": {
      "text/plain": [
       "{4, 6}"
      ]
     },
     "execution_count": 38,
     "metadata": {},
     "output_type": "execute_result"
    }
   ],
   "source": [
    "# Function that finds and returns nodes with highest degrees of centrality \n",
    "\n",
    "def highest_degree_centrality(graph):\n",
    "    \n",
    "    degree_centrality = nx.degree_centrality(graph)\n",
    "    \n",
    "    max_dc = max(list(degree_centrality.values()))\n",
    "    \n",
    "    nodes = set()\n",
    "    \n",
    "    for k,v in degree_centrality.items():\n",
    "        \n",
    "        if v == max_dc:\n",
    "            nodes.add(k)\n",
    "            \n",
    "    return nodes\n",
    "\n",
    "top_dc = highest_degree_centrality(G)\n",
    "top_dc"
   ]
  },
  {
   "cell_type": "code",
   "execution_count": 39,
   "metadata": {},
   "outputs": [],
   "source": [
    "for node in top_dc:\n",
    "    assert nx.degree_centrality(G)[node] == max(nx.degree_centrality(G).values())"
   ]
  },
  {
   "cell_type": "markdown",
   "metadata": {},
   "source": [
    "### 3. Betweenness Centrality Function"
   ]
  },
  {
   "cell_type": "code",
   "execution_count": 40,
   "metadata": {},
   "outputs": [
    {
     "data": {
      "text/plain": [
       "{5}"
      ]
     },
     "execution_count": 40,
     "metadata": {},
     "output_type": "execute_result"
    }
   ],
   "source": [
    "# Function that finds and returns nodes with highest betweenness centrality\n",
    "\n",
    "def highest_betweenness_centrality(graph):\n",
    "    \n",
    "    between_centrality = nx.betweenness_centrality(graph)\n",
    "    \n",
    "    max_bc = max(list(between_centrality.values()))\n",
    "    \n",
    "    nodes = set()\n",
    "    \n",
    "    for k,v in between_centrality.items():\n",
    "        \n",
    "        if v == max_bc:\n",
    "            nodes.add(k)\n",
    "            \n",
    "    return nodes\n",
    "\n",
    "top_bc = highest_betweenness_centrality(G)\n",
    "top_bc"
   ]
  },
  {
   "cell_type": "code",
   "execution_count": 41,
   "metadata": {},
   "outputs": [],
   "source": [
    "for node in top_bc: \n",
    "    assert nx.betweenness_centrality(G)[node] == max(nx.betweenness_centrality(G).values())"
   ]
  },
  {
   "cell_type": "markdown",
   "metadata": {},
   "source": [
    "## Graph Algorithms / Finding Paths\n",
    "\n",
    "\n",
    "### **Breadth-First Search (BFS)**\n",
    "   - developed in 1950s \n",
    "   - shortest way out of a maze\n",
    "   - ask for neighbors, ask if end node is in neighbors\n",
    "   - if not, ask for neighbors of neighbors, etc.\n",
    "   \n",
    "   This looks like Bread First Search or Breakfast Search lol\n",
    "   \n",
    "   <img src=https://www.pngkit.com/png/detail/150-1502067_meme-dankmeme-dankmemes-memes-bread-ohfreetoedit-evil-seed.png\n",
    "    width=300 height=300 align='left'/>\n",
    "   \n",
    "    "
   ]
  },
  {
   "cell_type": "markdown",
   "metadata": {},
   "source": [
    "### BFS Algorithm Function"
   ]
  },
  {
   "cell_type": "code",
   "execution_count": 56,
   "metadata": {},
   "outputs": [],
   "source": [
    "def path_exists(graph, node1, node2):\n",
    "    \"\"\"\n",
    "    This function checks whether a path between two nodes exists in the graph\n",
    "    \"\"\"\n",
    "    visited_nodes = set()\n",
    "    \n",
    "    queue = [node1]\n",
    "    \n",
    "    for node in queue:\n",
    "        neighbors = graph.neighbors(node)\n",
    "        \n",
    "        if node2 in neighbors: \n",
    "            print('Path exists between nodes {0} and {1}'.format(node1, node2))\n",
    "            return True\n",
    "            break\n",
    "            \n",
    "        else:\n",
    "            visited_nodes.add(node)\n",
    "            queue.extend([n for n in neighbors if n not in visited_nodes])\n",
    "            \n",
    "        if node == queue[-1]:\n",
    "            print('No path exists : (')\n",
    "            return False"
   ]
  },
  {
   "cell_type": "code",
   "execution_count": 57,
   "metadata": {},
   "outputs": [
    {
     "name": "stdout",
     "output_type": "stream",
     "text": [
      "Path exists between nodes 5 and 6\n"
     ]
    },
    {
     "data": {
      "text/plain": [
       "True"
      ]
     },
     "execution_count": 57,
     "metadata": {},
     "output_type": "execute_result"
    }
   ],
   "source": [
    "path_exists(G,5,6)"
   ]
  },
  {
   "cell_type": "code",
   "execution_count": 58,
   "metadata": {},
   "outputs": [
    {
     "name": "stdout",
     "output_type": "stream",
     "text": [
      "No path exists : (\n"
     ]
    },
    {
     "data": {
      "text/plain": [
       "False"
      ]
     },
     "execution_count": 58,
     "metadata": {},
     "output_type": "execute_result"
    }
   ],
   "source": [
    "path_exists(G,1,5)"
   ]
  },
  {
   "cell_type": "markdown",
   "metadata": {},
   "source": [
    "### **All Shortest Paths** \n",
    "- set of paths such that each path is the shortest path between a given pair of nodes, done for all pairs of nodes"
   ]
  },
  {
   "cell_type": "code",
   "execution_count": 59,
   "metadata": {},
   "outputs": [],
   "source": [
    "G = nx.barbell_graph(m1=5, m2=1) #m1 - number of nodes in bell, m2 - number of nodes in bridgE"
   ]
  },
  {
   "cell_type": "code",
   "execution_count": 60,
   "metadata": {},
   "outputs": [
    {
     "name": "stderr",
     "output_type": "stream",
     "text": [
      "C:\\Users\\602770\\AppData\\Local\\Continuum\\anaconda3\\lib\\site-packages\\networkx\\drawing\\nx_pylab.py:563: MatplotlibDeprecationWarning: \n",
      "The iterable function was deprecated in Matplotlib 3.1 and will be removed in 3.3. Use np.iterable instead.\n",
      "  if not cb.iterable(width):\n",
      "C:\\Users\\602770\\AppData\\Local\\Continuum\\anaconda3\\lib\\site-packages\\networkx\\drawing\\nx_pylab.py:611: MatplotlibDeprecationWarning: \n",
      "The is_numlike function was deprecated in Matplotlib 3.0 and will be removed in 3.2. Use isinstance(..., numbers.Number) instead.\n",
      "  if cb.is_numlike(alpha):\n"
     ]
    },
    {
     "data": {
      "image/png": "[encoded data removed]",
      "text/plain": [
       "<Figure size 432x288 with 1 Axes>"
      ]
     },
     "metadata": {},
     "output_type": "display_data"
    }
   ],
   "source": [
    "nx.draw(G)\n",
    "#Shows that only the bridge node and adjacent node on each side [4,5,6]\n",
    "# nodes within each end are fully connected with one another -"
   ]
  },
  {
   "cell_type": "code",
   "execution_count": null,
   "metadata": {},
   "outputs": [],
   "source": []
  },
  {
   "cell_type": "code",
   "execution_count": null,
   "metadata": {},
   "outputs": [],
   "source": []
  },
  {
   "cell_type": "code",
   "execution_count": null,
   "metadata": {},
   "outputs": [],
   "source": []
  },
  {
   "cell_type": "code",
   "execution_count": null,
   "metadata": {},
   "outputs": [],
   "source": []
  },
  {
   "cell_type": "code",
   "execution_count": null,
   "metadata": {},
   "outputs": [],
   "source": []
  }
 ],
 "metadata": {
  "kernelspec": {
   "display_name": "Python 3",
   "language": "python",
   "name": "python3"
  },
  "language_info": {
   "codemirror_mode": {
    "name": "ipython",
    "version": 3
   },
   "file_extension": ".py",
   "mimetype": "text/x-python",
   "name": "python",
   "nbconvert_exporter": "python",
   "pygments_lexer": "ipython3",
   "version": "3.7.3"
  }
 },
 "nbformat": 4,
 "nbformat_minor": 2
}
